{
  "nbformat": 4,
  "nbformat_minor": 0,
  "metadata": {
    "colab": {
      "name": "mnist_gan.ipynb",
      "provenance": [],
      "collapsed_sections": [],
      "authorship_tag": "ABX9TyMIdRmFvIylWskEtmQxc9+T",
      "include_colab_link": true
    },
    "kernelspec": {
      "name": "python3",
      "display_name": "Python 3"
    },
    "accelerator": "GPU"
  },
  "cells": [
    {
      "cell_type": "markdown",
      "metadata": {
        "id": "view-in-github",
        "colab_type": "text"
      },
      "source": [
        "<a href=\"https://colab.research.google.com/github/Jin-jin-jara/hello-world/blob/master/mnist_gan.ipynb\" target=\"_parent\"><img src=\"https://colab.research.google.com/assets/colab-badge.svg\" alt=\"Open In Colab\"/></a>"
      ]
    },
    {
      "cell_type": "markdown",
      "metadata": {
        "id": "_1HPYbnR7txS",
        "colab_type": "text"
      },
      "source": [
        "# GAN을 이용한 이상치 탐지"
      ]
    },
    {
      "cell_type": "markdown",
      "metadata": {
        "id": "JflufSDBYkSS",
        "colab_type": "text"
      },
      "source": [
        "### 이상치 탐지란?"
      ]
    },
    {
      "cell_type": "markdown",
      "metadata": {
        "id": "HXsat56aYp24",
        "colab_type": "text"
      },
      "source": [
        "이상치는 신용카드 사기, 공장의 불량품 같은 데이터의 비정상적인 패턴을 뜻합니다. 이상치 탐지란 말 그대로 이상(문제)이 있는 데이터를 탐지해내는 것입니다.실생활에서 이러한 위협 또는 고장으로 발생하는 피해를 방지하기 위해 이상 탐지는 필수적으로 해결해야 할 문제입니다. 이상한 패턴을 가지고 있는 데이터들을 사람이 일일이 확인하는 것이 아니라 기계가 찾아줄 수 있다면 다양한 분야에서 유용하게 쓰일 수 있을 것입니다."
      ]
    },
    {
      "cell_type": "markdown",
      "metadata": {
        "id": "U-Dr5_4O71FI",
        "colab_type": "text"
      },
      "source": [
        "### GAN(Generative Adversarial Network)이란?"
      ]
    },
    {
      "cell_type": "markdown",
      "metadata": {
        "id": "v-YxNwq875T_",
        "colab_type": "text"
      },
      "source": [
        "처음 GAN을 제안한 Ian Goodfellow는 GAN을 경찰과 위조지폐범 사이의 게임에 비유했습니다. 위조지폐범은 최대한 진짜 같은 화폐를 만들어(생성) 경찰을 속이기 위해 노력하고, 경찰은 진짜 화폐와 가짜 화폐를 완벽히 판별(분류)하여 위조지폐범을 검거하는 것을 목표로 합니다. 이러한 경쟁적인 학습이 지속되다 보면 어느 순간 위조지폐범은 진짜와 다를 바 없는 위조지폐를 만들 수 있게 되고 경찰이 위조지폐를 구별할 수 있는 확률도 가장 헷갈리는 50%로 수렴하게 되어 경찰은 위조지폐와 실제 화폐를 구분할 수 없는 상태에 이르게 됩니다.<br><br> 여기서 경찰은 분류 모델, 위조지폐범은 생성 모델을 의미하며, GAN에는 최대한 진짜 같은 데이터를 생성하려는 생성 모델과 진짜와 가짜를 판별하려는 분류 모델이 각각 존재하여 서로 적대적으로 학습합니다."
      ]
    },
    {
      "cell_type": "markdown",
      "metadata": {
        "id": "p9aIbm717ZbC",
        "colab_type": "text"
      },
      "source": [
        "<img src=\"http://mrkim.cloudy.so/files/attach/images/146/378/175/feb74723d68b2698268de9f6cae3ac9b.PNG\" align='center'>"
      ]
    },
    {
      "cell_type": "markdown",
      "metadata": {
        "id": "GZz_GIUKP4Vm",
        "colab_type": "text"
      },
      "source": [
        "생성 모델에서 만들어낸 가짜 데이터를 판별 모델에 입력하고, 가짜 데이터를 진짜라고 분류할 만큼 진짜 데이터와 유사한 데이터를 만들어 내도록 생성 모델을 학습시킵니다. 적대적 학습이 완료되었을 때 위조지폐범은 진짜 같은 위조지폐를 만들 것이고 경찰은 누구보다 뛰어난 위조지폐 감별사가 되어있을 것입니다. 이번 프로젝트에서는 위조지폐범(생성 모델)이 아닌 경찰(감별 모델)의 힘을 빌려보고자 합니다.<br><br>\n",
        "정상적이지 않은 데이터를 생성해 적대적으로 학습된 감별 모델에 넣어보겠습니다. 잘 훈련된 감별 모델이라면 정상인 데이터에 대해서는 1에 가까운 값을, 비정상인 데이터에 대해서는 0에 가까운 값을 출력할 것입니다."
      ]
    },
    {
      "cell_type": "markdown",
      "metadata": {
        "id": "20vJonVZ8TVZ",
        "colab_type": "text"
      },
      "source": [
        "### 필요 라이브러리 불러오기"
      ]
    },
    {
      "cell_type": "code",
      "metadata": {
        "id": "eM-Ixdpo2JUe",
        "colab_type": "code",
        "outputId": "3a5d84ef-0109-45af-f6bc-89c7175301d5",
        "colab": {
          "base_uri": "https://localhost:8080/",
          "height": 34
        }
      },
      "source": [
        "%tensorflow_version 2.x\n",
        "import tensorflow as tf\n",
        "from tensorflow.keras import datasets, layers, models\n",
        "import glob\n",
        "import imageio\n",
        "import matplotlib.pyplot as plt\n",
        "import numpy as np\n",
        "import os\n",
        "import PIL\n",
        "import time\n",
        "import random\n",
        "\n",
        "import matplotlib.pyplot as plt\n",
        "import seaborn as sns\n",
        "from IPython import display"
      ],
      "execution_count": 1,
      "outputs": [
        {
          "output_type": "stream",
          "text": [
            "TensorFlow 2.x selected.\n"
          ],
          "name": "stdout"
        }
      ]
    },
    {
      "cell_type": "code",
      "metadata": {
        "id": "TUIvIupD30r0",
        "colab_type": "code",
        "outputId": "401c660c-50b0-4598-99c0-dbe4d7b92ce2",
        "colab": {
          "base_uri": "https://localhost:8080/",
          "height": 34
        }
      },
      "source": [
        "tf.__version__"
      ],
      "execution_count": 2,
      "outputs": [
        {
          "output_type": "execute_result",
          "data": {
            "text/plain": [
              "'2.1.0'"
            ]
          },
          "metadata": {
            "tags": []
          },
          "execution_count": 2
        }
      ]
    },
    {
      "cell_type": "code",
      "metadata": {
        "id": "-IRux2Ed-TVL",
        "colab_type": "code",
        "colab": {}
      },
      "source": [
        "!pip install -q imageio"
      ],
      "execution_count": 0,
      "outputs": []
    },
    {
      "cell_type": "markdown",
      "metadata": {
        "id": "b7ZtD_tD8hrH",
        "colab_type": "text"
      },
      "source": [
        "### MNIST 데이터셋"
      ]
    },
    {
      "cell_type": "markdown",
      "metadata": {
        "id": "aGpd8wtqROvE",
        "colab_type": "text"
      },
      "source": [
        "생성자와 감별자를 훈련하기위해 MNIST 손글씨 숫자 데이터셋을 사용하겠습니다. 생성자는 손글씨 숫자 데이터를 닮은 숫자들을 생성할 것입니다."
      ]
    },
    {
      "cell_type": "markdown",
      "metadata": {
        "id": "g7-Yvqrq85SX",
        "colab_type": "text"
      },
      "source": [
        "#### 정상 데이터셋"
      ]
    },
    {
      "cell_type": "code",
      "metadata": {
        "id": "5ZbX9W9B2ZlX",
        "colab_type": "code",
        "colab": {
          "base_uri": "https://localhost:8080/",
          "height": 52
        },
        "outputId": "e6da471e-0916-4ac4-b410-d0d5772959b3"
      },
      "source": [
        "(train_images, train_labels), (_, _) = tf.keras.datasets.mnist.load_data()\n",
        "\n",
        "train_images = train_images.reshape(train_images.shape[0], 28, 28, 1).astype('float32')\n",
        "# 이미지의 범위를 [-1, 1] 사이로 정규화합니다.\n",
        "train_images = (train_images - 127.5) / 127.5\n",
        "\n",
        "BUFFER_SIZE = 60000\n",
        "BATCH_SIZE = 256\n",
        "\n",
        "# Batch and shuffle the data\n",
        "train_dataset = tf.data.Dataset.from_tensor_slices(train_images).shuffle(BUFFER_SIZE).batch(BATCH_SIZE)"
      ],
      "execution_count": 4,
      "outputs": [
        {
          "output_type": "stream",
          "text": [
            "Downloading data from https://storage.googleapis.com/tensorflow/tf-keras-datasets/mnist.npz\n",
            "11493376/11490434 [==============================] - 0s 0us/step\n"
          ],
          "name": "stdout"
        }
      ]
    },
    {
      "cell_type": "code",
      "metadata": {
        "id": "Hknm-9wN4ZZ3",
        "colab_type": "code",
        "outputId": "066f7435-1c10-42aa-c787-934a965ba1f2",
        "colab": {
          "base_uri": "https://localhost:8080/",
          "height": 301
        }
      },
      "source": [
        "plt.imshow(train_images[0].reshape((28, 28)), cmap='gray')\n",
        "plt.rc('font', size=13)\n",
        "plt.title(train_labels[0])"
      ],
      "execution_count": 5,
      "outputs": [
        {
          "output_type": "execute_result",
          "data": {
            "text/plain": [
              "Text(0.5, 1.0, '5')"
            ]
          },
          "metadata": {
            "tags": []
          },
          "execution_count": 5
        },
        {
          "output_type": "display_data",
          "data": {
            "image/png": "[encoded data removed]",
            "text/plain": [
              "<Figure size 432x288 with 1 Axes>"
            ]
          },
          "metadata": {
            "tags": []
          }
        }
      ]
    },
    {
      "cell_type": "code",
      "metadata": {
        "id": "iEPIiv85dCBn",
        "colab_type": "code",
        "colab": {
          "base_uri": "https://localhost:8080/",
          "height": 34
        },
        "outputId": "d4e50c65-0541-4cc6-955e-2d5b6946a53c"
      },
      "source": [
        "a =  random.randrange(1,4)\n",
        "a"
      ],
      "execution_count": 6,
      "outputs": [
        {
          "output_type": "execute_result",
          "data": {
            "text/plain": [
              "3"
            ]
          },
          "metadata": {
            "tags": []
          },
          "execution_count": 6
        }
      ]
    },
    {
      "cell_type": "markdown",
      "metadata": {
        "id": "RdFTQhnf8tG_",
        "colab_type": "text"
      },
      "source": [
        "#### 비정상 데이터셋(이상치)"
      ]
    },
    {
      "cell_type": "code",
      "metadata": {
        "id": "PhHgdjhsFIIj",
        "colab_type": "code",
        "outputId": "34b7ac7e-69e2-4a05-f89d-e04db0cfd771",
        "colab": {
          "base_uri": "https://localhost:8080/",
          "height": 286
        }
      },
      "source": [
        "def make_noise_images(noise_type= random.randrange(1,4)):\n",
        "  noise_images = np.array(random.sample(list(train_images), 1000))\n",
        "\n",
        "  # 이미지에 수평선을 긋습니다\n",
        "  if noise_type==1:\n",
        "    noise_images[:, 15:17, :, :] = -1\n",
        "  \n",
        "  # 이미지에 수직선을 긋습니다.\n",
        "  elif noise_type==2:\n",
        "    noise_images[:, :, 15:17, :] = -1\n",
        "\n",
        "  # 이미지에 십자가를 긋습니다.\n",
        "  elif noise_type==3:\n",
        "    noise_images[:, 15:17, :, :] = -1\n",
        "    noise_images[:, :, 15:17, :] = -1\n",
        "\n",
        "  return noise_images\n",
        "\n",
        "noise_images = make_noise_images()\n",
        "plt.imshow(noise_images[0].reshape((28, 28)), cmap='gray')"
      ],
      "execution_count": 7,
      "outputs": [
        {
          "output_type": "execute_result",
          "data": {
            "text/plain": [
              "<matplotlib.image.AxesImage at 0x7f22b0f85a20>"
            ]
          },
          "metadata": {
            "tags": []
          },
          "execution_count": 7
        },
        {
          "output_type": "display_data",
          "data": {
            "image/png": "[encoded data removed]",
            "text/plain": [
              "<Figure size 432x288 with 1 Axes>"
            ]
          },
          "metadata": {
            "tags": []
          }
        }
      ]
    },
    {
      "cell_type": "markdown",
      "metadata": {
        "id": "goSikAQo8-Zu",
        "colab_type": "text"
      },
      "source": [
        "### 모델"
      ]
    },
    {
      "cell_type": "markdown",
      "metadata": {
        "id": "DIBgvgfhTl6r",
        "colab_type": "text"
      },
      "source": [
        "#### 생성자(Generator)"
      ]
    },
    {
      "cell_type": "markdown",
      "metadata": {
        "id": "KSZ-uO_hTtUC",
        "colab_type": "text"
      },
      "source": [
        "생성자는 시드값 (seed; 랜덤한 잡음)으로부터 이미지를 생성하기 위해, tf.keras.layers.Conv2DTranspose (업샘플링) 층을 이용합니다. 처음 Dense층은 이 시드값을 인풋으로 받습니다. 그 다음 원하는 사이즈 28x28x1의 이미지가 나오도록 업샘플링을 여러번 합니다. tanh를 사용하는 마지막 층을 제외한 나머지 각 층마다 활성함수로 tf.keras.layers.LeakyReLU을 사용했습니다."
      ]
    },
    {
      "cell_type": "code",
      "metadata": {
        "id": "WEbTgjJR4omy",
        "colab_type": "code",
        "colab": {}
      },
      "source": [
        "def make_generator_model():\n",
        "    model = tf.keras.Sequential()\n",
        "    model.add(layers.Dense(7*7*256, use_bias=False, input_shape=(100,)))\n",
        "    model.add(layers.BatchNormalization())\n",
        "    model.add(layers.LeakyReLU())\n",
        "\n",
        "    model.add(layers.Reshape((7, 7, 256)))\n",
        "    assert model.output_shape == (None, 7, 7, 256) # Note: None is the batch size\n",
        "\n",
        "    model.add(layers.Conv2DTranspose(128, (5, 5), strides=(1, 1), padding='same', use_bias=False))\n",
        "    assert model.output_shape == (None, 7, 7, 128)\n",
        "    model.add(layers.BatchNormalization())\n",
        "    model.add(layers.LeakyReLU())\n",
        "\n",
        "    model.add(layers.Conv2DTranspose(64, (5, 5), strides=(2, 2), padding='same', use_bias=False))\n",
        "    assert model.output_shape == (None, 14, 14, 64)\n",
        "    model.add(layers.BatchNormalization())\n",
        "    model.add(layers.LeakyReLU())\n",
        "\n",
        "    model.add(layers.Conv2DTranspose(1, (5, 5), strides=(2, 2), padding='same', use_bias=False, activation='tanh'))\n",
        "    assert model.output_shape == (None, 28, 28, 1)\n",
        "\n",
        "    return model"
      ],
      "execution_count": 0,
      "outputs": []
    },
    {
      "cell_type": "markdown",
      "metadata": {
        "id": "TGqKnn1jT18a",
        "colab_type": "text"
      },
      "source": [
        "(아직 훈련이 되지않은) 생성자를 이용해 이미지를 생성해보겠습니다."
      ]
    },
    {
      "cell_type": "code",
      "metadata": {
        "id": "8mdQl4Tw1frp",
        "colab_type": "code",
        "outputId": "ed57f6e1-2d42-4ce5-ece5-1426d4055dfd",
        "colab": {
          "base_uri": "https://localhost:8080/",
          "height": 304
        }
      },
      "source": [
        "generator = make_generator_model()\n",
        "\n",
        "noise = tf.random.normal([1, 100])\n",
        "generated_image = generator(noise, training=False)\n",
        "\n",
        "plt.imshow(generated_image[0, :, :, 0], cmap='gray')\n",
        "plt.title(\"Generated Image Before Train\")"
      ],
      "execution_count": 9,
      "outputs": [
        {
          "output_type": "execute_result",
          "data": {
            "text/plain": [
              "Text(0.5, 1.0, 'Generated Image Before Train')"
            ]
          },
          "metadata": {
            "tags": []
          },
          "execution_count": 9
        },
        {
          "output_type": "display_data",
          "data": {
            "image/png": "[encoded data removed]",
            "text/plain": [
              "<Figure size 432x288 with 1 Axes>"
            ]
          },
          "metadata": {
            "tags": []
          }
        }
      ]
    },
    {
      "cell_type": "markdown",
      "metadata": {
        "id": "jdWeYN6pT6va",
        "colab_type": "text"
      },
      "source": [
        "#### 감별자(Discriminator)"
      ]
    },
    {
      "cell_type": "markdown",
      "metadata": {
        "id": "viV-cK0FT-j6",
        "colab_type": "text"
      },
      "source": [
        "감별자는 합성곱 신경망(Convolutional Neural Network, CNN) 기반의 이미지 분류기입니다."
      ]
    },
    {
      "cell_type": "code",
      "metadata": {
        "id": "2ZA_RQkn8vSU",
        "colab_type": "code",
        "colab": {}
      },
      "source": [
        "def make_discriminator_model():\n",
        "  model = tf.keras.Sequential()\n",
        "  model.add(layers.Conv2D(64, (5, 5), strides=(2, 2), padding='same', input_shape=[28, 28, 1]))\n",
        "  model.add(layers.LeakyReLU())\n",
        "  model.add(layers.Dropout(0.3))\n",
        "  \n",
        "  model.add(layers.Conv2D(128, (5, 5), strides=(2, 2), padding='same'))\n",
        "  model.add(layers.LeakyReLU())\n",
        "  model.add(layers.Dropout(0.3))\n",
        "\n",
        "  model.add(layers.Flatten())\n",
        "  model.add(layers.Dense(1))\n",
        "\n",
        "  return model"
      ],
      "execution_count": 0,
      "outputs": []
    },
    {
      "cell_type": "markdown",
      "metadata": {
        "id": "bxkxKAA4UBph",
        "colab_type": "text"
      },
      "source": [
        "(아직까지 훈련이 되지 않은) 감별자를 사용하여, 생성된 이미지가 진짜인지 가짜인지 판별합니다. 모델은 진짜 이미지에는 1을, 가짜 이미지에는 0을 출력하도록 훈련될 것입니다."
      ]
    },
    {
      "cell_type": "code",
      "metadata": {
        "id": "_xVXX_6Q57Ji",
        "colab_type": "code",
        "colab": {}
      },
      "source": [
        "def sigmoid(x):\n",
        "    return 1 / (1 +np.exp(-x))"
      ],
      "execution_count": 0,
      "outputs": []
    },
    {
      "cell_type": "code",
      "metadata": {
        "id": "xNqz09yB9tR4",
        "colab_type": "code",
        "outputId": "af105538-fafc-4453-c9b8-4dee42a51955",
        "colab": {
          "base_uri": "https://localhost:8080/",
          "height": 34
        }
      },
      "source": [
        "discriminator = make_discriminator_model()\n",
        "decision = sigmoid(discriminator(generated_image))\n",
        "print(decision)"
      ],
      "execution_count": 12,
      "outputs": [
        {
          "output_type": "stream",
          "text": [
            "[[0.49969643]]\n"
          ],
          "name": "stdout"
        }
      ]
    },
    {
      "cell_type": "markdown",
      "metadata": {
        "id": "023klLwZUie0",
        "colab_type": "text"
      },
      "source": [
        "### Loss function, Optimizer"
      ]
    },
    {
      "cell_type": "markdown",
      "metadata": {
        "id": "9bELIiCeUsKR",
        "colab_type": "text"
      },
      "source": [
        "두 모델의 손실함수와 옵티마이저를 정의합니다."
      ]
    },
    {
      "cell_type": "code",
      "metadata": {
        "id": "CTjayMDR93qq",
        "colab_type": "code",
        "colab": {}
      },
      "source": [
        "cross_entropy = tf.keras.losses.BinaryCrossentropy(from_logits=True)"
      ],
      "execution_count": 0,
      "outputs": []
    },
    {
      "cell_type": "markdown",
      "metadata": {
        "id": "IQ0E_NdEUvhI",
        "colab_type": "text"
      },
      "source": [
        "#### 감별자 손실함수"
      ]
    },
    {
      "cell_type": "markdown",
      "metadata": {
        "id": "nptvRFHSUygS",
        "colab_type": "text"
      },
      "source": [
        "이 메서드는 감별자가 가짜 이미지에서 얼마나 진짜 이미지를 잘 판별하는지 수치화합니다. 진짜 이미지에 대한 감별자의 예측과 1로 이루어진 행렬을 비교하고, 가짜 (생성된) 이미지에 대한 감별자의 예측과 0으로 이루어진 행렬을 비교합니다."
      ]
    },
    {
      "cell_type": "code",
      "metadata": {
        "id": "JLjnmcGlnSwz",
        "colab_type": "code",
        "colab": {}
      },
      "source": [
        "def discriminator_loss(real_output, fake_output):\n",
        "  real_loss = cross_entropy(tf.ones_like(real_output), real_output)\n",
        "  fake_loss = cross_entropy(tf.zeros_like(fake_output), fake_output)\n",
        "  total_loss = real_loss + fake_loss\n",
        "  return total_loss"
      ],
      "execution_count": 0,
      "outputs": []
    },
    {
      "cell_type": "markdown",
      "metadata": {
        "id": "LHxGtE8XU92a",
        "colab_type": "text"
      },
      "source": [
        "#### 생성자 손실함수"
      ]
    },
    {
      "cell_type": "markdown",
      "metadata": {
        "id": "LkM44fezVAX4",
        "colab_type": "text"
      },
      "source": [
        "생성자의 손실함수는 감별자를 얼마나 잘 속였는지에 대해 수치화를 합니다. 직관적으로 생성자가 원활히 수행되고 있다면, 감별자는 가짜 이미지를 진짜 (또는 1)로 분류를 할 것입니다. 여기서 우리는 생성된 이미지에 대한 감별자의 결정을 1로 이루어진 행렬과 비교를 할 것입니다."
      ]
    },
    {
      "cell_type": "code",
      "metadata": {
        "id": "mqU8HHBHntc9",
        "colab_type": "code",
        "colab": {}
      },
      "source": [
        "def generator_loss(fake_output):\n",
        "  return cross_entropy(tf.ones_like(fake_output), fake_output)"
      ],
      "execution_count": 0,
      "outputs": []
    },
    {
      "cell_type": "markdown",
      "metadata": {
        "id": "8hcBtkGRVKZp",
        "colab_type": "text"
      },
      "source": [
        "감별자와 생성자는 따로 훈련되기 때문에, 감별자와 생성자의 옵티마이저는 다릅니다."
      ]
    },
    {
      "cell_type": "code",
      "metadata": {
        "id": "amG_KfIRn3B0",
        "colab_type": "code",
        "colab": {}
      },
      "source": [
        "generator_optimizer = tf.keras.optimizers.Adam(1e-4)\n",
        "discriminator_optimizer = tf.keras.optimizers.Adam(1e-4)"
      ],
      "execution_count": 0,
      "outputs": []
    },
    {
      "cell_type": "markdown",
      "metadata": {
        "id": "SkqdyTDlVSRh",
        "colab_type": "text"
      },
      "source": [
        "### 훈련 루프 정의"
      ]
    },
    {
      "cell_type": "code",
      "metadata": {
        "id": "v-DcUp2eoDnn",
        "colab_type": "code",
        "colab": {}
      },
      "source": [
        "EPOCHS = 50\n",
        "noise_dim = 100\n",
        "num_examples_to_generate = 16\n",
        "\n",
        "seed = tf.random.normal([num_examples_to_generate, noise_dim])"
      ],
      "execution_count": 0,
      "outputs": []
    },
    {
      "cell_type": "markdown",
      "metadata": {
        "id": "LUMOUrMyVXuB",
        "colab_type": "text"
      },
      "source": [
        "훈련 루프는 생성자가 입력으로 랜덤시드를 받는 것으로부터 시작됩니다. 그 시드값을 사용하여 이미지를 생성합니다. 감별자를 사용하여 (훈련 세트에서 갖고온) 진짜 이미지와 (생성자가 생성해낸) 가짜이미지를 분류합니다. 각 모델의 손실을 계산하고, 그래디언트 (gradients)를 사용해 생성자와 감별자를 업데이트합니다."
      ]
    },
    {
      "cell_type": "code",
      "metadata": {
        "id": "kVQBEYnXoS1g",
        "colab_type": "code",
        "colab": {}
      },
      "source": [
        "@tf.function\n",
        "def train_step(images):\n",
        "  noise = tf.random.normal([BATCH_SIZE, noise_dim])\n",
        "\n",
        "  with tf.GradientTape() as gen_tape, tf.GradientTape() as disc_tape:\n",
        "    generated_images = generator(noise, training=True)\n",
        "\n",
        "    real_output = discriminator(images, training=True)\n",
        "    fake_output = discriminator(generated_images, training=True)\n",
        "\n",
        "    gen_loss = generator_loss(fake_output)\n",
        "    disc_loss = discriminator_loss(real_output, fake_output)\n",
        "\n",
        "  gradients_of_generator = gen_tape.gradient(gen_loss, generator.trainable_variables)\n",
        "  gradients_of_discriminator = disc_tape.gradient(disc_loss, discriminator.trainable_variables)\n",
        "  print(type(gradients_of_discriminator))\n",
        "  generator_optimizer.apply_gradients(zip(gradients_of_generator, generator.trainable_variables))\n",
        "  discriminator_optimizer.apply_gradients(zip(gradients_of_discriminator, discriminator.trainable_variables))"
      ],
      "execution_count": 0,
      "outputs": []
    },
    {
      "cell_type": "code",
      "metadata": {
        "id": "bqVT9vbAtDE3",
        "colab_type": "code",
        "colab": {}
      },
      "source": [
        "def train(dataset, epochs):\n",
        "  for epoch in range(epochs):\n",
        "    start = time.time()\n",
        "\n",
        "    for image_batch in dataset:\n",
        "      train_step(image_batch)\n",
        "\n",
        "    display.clear_output(wait=True)\n",
        "    generate_and_save_images(generator, epoch+1, seed)\n",
        "  \n",
        "  display.clear_output(wait=True)\n",
        "  generate_and_save_images(generator, epochs, seed)"
      ],
      "execution_count": 0,
      "outputs": []
    },
    {
      "cell_type": "markdown",
      "metadata": {
        "id": "lwx59mZJVdMT",
        "colab_type": "text"
      },
      "source": [
        "이미지 생성 및 저장"
      ]
    },
    {
      "cell_type": "code",
      "metadata": {
        "id": "ahYk3jnct997",
        "colab_type": "code",
        "colab": {}
      },
      "source": [
        "def generate_and_save_images(model, epoch, test_input):\n",
        "  predictions = model(test_input, training=False)\n",
        "\n",
        "  fig = plt.figure(figsize=(4, 4))\n",
        "\n",
        "  for i in range(predictions.shape[0]):\n",
        "    plt.subplot(4, 4, i+1)\n",
        "    plt.imshow(predictions[i, :, :, 0] * 127.5 + 127.5, cmap='gray')\n",
        "    plt.axis('off')\n",
        "\n",
        "  plt.show()"
      ],
      "execution_count": 0,
      "outputs": []
    },
    {
      "cell_type": "markdown",
      "metadata": {
        "id": "a1YG6te0GqTl",
        "colab_type": "text"
      },
      "source": [
        "감별자가 훈련되기 전에는 감별자는 비정상 이미지에 대해 거의 감별을 해내지 못합니다. 감별자의 출력값은 대부분 0.5주변에 몰려있습니다."
      ]
    },
    {
      "cell_type": "code",
      "metadata": {
        "id": "S0lJ5k_KxG6s",
        "colab_type": "code",
        "outputId": "c34203fe-b5ba-4573-cd34-986df779ef9e",
        "colab": {
          "base_uri": "https://localhost:8080/",
          "height": 304
        }
      },
      "source": [
        "disc_noise = sigmoid(discriminator(noise_images, training=False))\n",
        "plt.hist(disc_noise)\n",
        "plt.title(\"Noise images before train\")"
      ],
      "execution_count": 21,
      "outputs": [
        {
          "output_type": "execute_result",
          "data": {
            "text/plain": [
              "Text(0.5, 1.0, 'Noise images before train')"
            ]
          },
          "metadata": {
            "tags": []
          },
          "execution_count": 21
        },
        {
          "output_type": "display_data",
          "data": {
            "image/png": "[encoded data removed]",
            "text/plain": [
              "<Figure size 432x288 with 1 Axes>"
            ]
          },
          "metadata": {
            "tags": []
          }
        }
      ]
    },
    {
      "cell_type": "markdown",
      "metadata": {
        "id": "JvUZQ60zXMUy",
        "colab_type": "text"
      },
      "source": [
        "위에 정의된 train() 메서드를 생성자와 감별자를 동시에 훈련하기 위해 호출합니다. 훈련 초반부에는 생성된 이미지는 랜덤한 노이즈처럼 보입니다. 훈련이 진행될수록, 생성된 숫자들이 진짜처럼 보입니다. 이 프로젝트에서는 훈련 시간이 너무 오래걸리기 때문에 50번만 진행하겠습니다. 훈련 횟수를 늘리면 점점 실제 숫자 이미지와 비슷해져갑니다."
      ]
    },
    {
      "cell_type": "code",
      "metadata": {
        "id": "nmpm-k7vxCHv",
        "colab_type": "code",
        "outputId": "ec3ff632-75d1-40b0-cf74-486b06592f53",
        "colab": {
          "base_uri": "https://localhost:8080/",
          "height": 248
        }
      },
      "source": [
        "train(train_dataset, EPOCHS)"
      ],
      "execution_count": 22,
      "outputs": [
        {
          "output_type": "display_data",
          "data": {
            "image/png": "[encoded data removed]",
            "text/plain": [
              "<Figure size 288x288 with 16 Axes>"
            ]
          },
          "metadata": {
            "tags": []
          }
        }
      ]
    },
    {
      "cell_type": "markdown",
      "metadata": {
        "id": "Sz85JtYXalcp",
        "colab_type": "text"
      },
      "source": [
        "훈련을 진행할 수록 감별자는 MNIST 데이터 셋에 대한 전문 감별사가 됩니다. 훈련 전과는 다르게 비정상 데이터에 대한 감별자의 출력값이 1보단 0에 가까운 값을 가집니다. "
      ]
    },
    {
      "cell_type": "code",
      "metadata": {
        "id": "XllTmr7yxqu_",
        "colab_type": "code",
        "outputId": "0a9e35b4-eadf-4ec4-a89b-e84e50566d3a",
        "colab": {
          "base_uri": "https://localhost:8080/",
          "height": 304
        }
      },
      "source": [
        "disc_noise = sigmoid(discriminator(noise_images, training=False))\n",
        "plt.hist(disc_noise)\n",
        "plt.title(\"Noise images after train(epoch = 50)\")"
      ],
      "execution_count": 23,
      "outputs": [
        {
          "output_type": "execute_result",
          "data": {
            "text/plain": [
              "Text(0.5, 1.0, 'Noise images after train(epoch = 50)')"
            ]
          },
          "metadata": {
            "tags": []
          },
          "execution_count": 23
        },
        {
          "output_type": "display_data",
          "data": {
            "image/png": "[encoded data removed]",
            "text/plain": [
              "<Figure size 432x288 with 1 Axes>"
            ]
          },
          "metadata": {
            "tags": []
          }
        }
      ]
    },
    {
      "cell_type": "markdown",
      "metadata": {
        "id": "f0o86-ihf07c",
        "colab_type": "text"
      },
      "source": [
        "훈련된 감별자로 비정상 데이터를 탐지하는 이상치 탐지기를 만들어보겠습니다."
      ]
    },
    {
      "cell_type": "code",
      "metadata": {
        "id": "haEqGaeWeIId",
        "colab_type": "code",
        "colab": {}
      },
      "source": [
        "# 감별자를 이용해 이미지의 이상치를 탐지하는 함수\n",
        "def anomaly_detector(dataset):\n",
        "  normal = []\n",
        "  anomalies = []\n",
        "  for img in dataset:\n",
        "    img = img.reshape(1,28,28,1)\n",
        "    predict = sigmoid(discriminator(img,training=False))\n",
        "    if predict > 0.5:\n",
        "      normal.append(img)\n",
        "    else:\n",
        "      anomalies.append(img)\n",
        "  return len(normal)/len(dataset) , len(anomalies)/len(dataset)"
      ],
      "execution_count": 0,
      "outputs": []
    },
    {
      "cell_type": "code",
      "metadata": {
        "id": "LECIMnpAfMqj",
        "colab_type": "code",
        "colab": {
          "base_uri": "https://localhost:8080/",
          "height": 52
        },
        "outputId": "c08dcd3e-d2b6-4509-8bb0-055e3dbd8274"
      },
      "source": [
        "normal_img = np.array(random.sample(list(train_images), 100))\n",
        "anomaly_img = np.array(random.sample(list(noise_images), 100))\n",
        "\n",
        "print(\"정상 이미지에 대한 정확도: {}\".format(anomaly_detector(normal_img)[0]))\n",
        "print(\"비정상 이미지에 대한 정확도 : {}\".format(anomaly_detector(anomaly_img)[1]))"
      ],
      "execution_count": 25,
      "outputs": [
        {
          "output_type": "stream",
          "text": [
            "정상 이미지에 대한 정확도: 0.78\n",
            "비정상 이미지에 대한 정확도 : 0.88\n"
          ],
          "name": "stdout"
        }
      ]
    }
  ]
}